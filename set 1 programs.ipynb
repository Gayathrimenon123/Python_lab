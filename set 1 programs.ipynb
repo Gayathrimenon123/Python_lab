{
 "cells": [
  {
   "cell_type": "code",
   "execution_count": 8,
   "id": "1294a594",
   "metadata": {},
   "outputs": [
    {
     "name": "stdout",
     "output_type": "stream",
     "text": [
      "enter first number123\n",
      "enter second number112\n",
      "1.Addition\n",
      "2.Subtraction\n",
      "3.Multiplication\n",
      "4.Division\n",
      "5.Modulus\n",
      "Enter your choice1\n",
      "Result: 235\n"
     ]
    }
   ],
   "source": [
    "#q1\n",
    "a=int(input(\"enter first number\"))\n",
    "b=int(input(\"enter second number\"))\n",
    "\n",
    "print(\"1.Addition\\n2.Subtraction\\n3.Multiplication\\n4.Division\\n5.Modulus\")\n",
    "ch=int(input(\"Enter your choice\"))\n",
    "\n",
    "if ch==1:\n",
    "    print(\"Result:\",a+b)\n",
    "elif ch==2:\n",
    "    print(\"Result:\",a-b)\n",
    "elif ch==3:\n",
    "    print(\"Result:\",a*b) \n",
    "elif ch==4:\n",
    "    print(\"Result:\",a/b)\n",
    "elif ch==5:\n",
    "    print(\"Result:\",a%b)\n",
    "else:\n",
    "    print(\"invalid option\")"
   ]
  },
  {
   "cell_type": "code",
   "execution_count": 45,
   "id": "2a534ed3",
   "metadata": {},
   "outputs": [
    {
     "name": "stdout",
     "output_type": "stream",
     "text": [
      "ELECTRIC BILL\n",
      "=============\n",
      "\n",
      "Enter units consumed : 201\n",
      "Total Amount :  100.65\n"
     ]
    }
   ],
   "source": [
    "#q2\n",
    "print(\"ELECTRIC BILL\\n=============\\n\")\n",
    "units = int(input(\"Enter units consumed : \"))\n",
    "\n",
    "if units in range(0, 201):\n",
    "    amt = units * 0.5\n",
    "    if(amt < 100):\n",
    "        tot = 100;    \n",
    "    print(\"Total Amount : \",tot)\n",
    "elif units in range(201, 401):\n",
    "    dif = units - 200\n",
    "    amt = (200 * 0.5) + (dif * 0.65)\n",
    "    tot = amt;\n",
    "    print(\"Total Amount : \",tot)\n",
    "elif units in range(401, 601):\n",
    "    dif = units - 400\n",
    "    amount = (200 * 0.5) + (200 * 0.65) + (dif * 0.8)\n",
    "    tot = amt;\n",
    "    print(\"Total Amount : \",tot)\n",
    "else:\n",
    "    dif = units - 600\n",
    "    amt = (200 * 0.5) + (200 * 0.65) + (200 * 0.8) + (dif * 1)\n",
    "    if amt > 400:\n",
    "        tot = amt + (0.15 * amt)\n",
    "    else:\n",
    "        tot = amt;\n",
    "    print(\"Total Amount : \",tot)"
   ]
  },
  {
   "cell_type": "code",
   "execution_count": 42,
   "id": "ef356769",
   "metadata": {},
   "outputs": [
    {
     "name": "stdout",
     "output_type": "stream",
     "text": [
      "Enter the row of the pyramid : 3\n",
      "   1\n",
      "  1 2\n",
      " 1 2 3\n"
     ]
    }
   ],
   "source": [
    "#q3\n",
    "n = int(input(\"Enter the row of the pyramid : \"))\n",
    "for i in range(1, (n + 1)):\n",
    "    for j in range(n - i) :\n",
    "            print(\" \", end=\"\")\n",
    "    for x in range(1, (i + 1)):        \n",
    "        print(\"\",x, end=\"\")\n",
    "    print(\"\")"
   ]
  },
  {
   "cell_type": "code",
   "execution_count": 43,
   "id": "ae68b1e0",
   "metadata": {},
   "outputs": [
    {
     "name": "stdout",
     "output_type": "stream",
     "text": [
      "Count of Number's divisible by 7 (100-200) 14\n",
      "Sum of the Number's is : 2107\n"
     ]
    }
   ],
   "source": [
    "#q4\n",
    "t = 0\n",
    "sum = 0\n",
    "for i in range (100,201):\n",
    "    if i % 7 == 0:\n",
    "        t = t + 1\n",
    "        #print(i)\n",
    "        sum = sum + i\n",
    "\n",
    "\n",
    "print(\"Count of Number's divisible by 7 (100-200)\",t)\n",
    "print(\"Sum of the Number's is :\",sum)"
   ]
  },
  {
   "cell_type": "code",
   "execution_count": 12,
   "id": "ad72a129",
   "metadata": {},
   "outputs": [
    {
     "name": "stdout",
     "output_type": "stream",
     "text": [
      "55\n"
     ]
    }
   ],
   "source": [
    "#q5\n",
    "def sum(i):\n",
    "    if i ==0:\n",
    "        return 0\n",
    "    else:\n",
    "        return i+sum(i-1)\n",
    "    \n",
    "print(sum(10))  \n",
    "    \n",
    "    "
   ]
  },
  {
   "cell_type": "code",
   "execution_count": 40,
   "id": "1594f747",
   "metadata": {},
   "outputs": [
    {
     "name": "stdout",
     "output_type": "stream",
     "text": [
      "enter a number1234\n",
      "Entered Number :  1234\n",
      "reversed no: 4321\n",
      "sum: 5555\n",
      "palindrome\n"
     ]
    }
   ],
   "source": [
    "#q6\n",
    "def pal(n):\n",
    "    d=0\n",
    "    x=n\n",
    "    while n!=0:\n",
    "        r=n%10\n",
    "        d=d*10+r\n",
    "        n=n//10     \n",
    "    print(\"reversed no:\",d)\n",
    "    sum=x+d\n",
    "    s=sum\n",
    "    d1=0\n",
    "    while s!=0:\n",
    "        r=s%10\n",
    "        d1=d1*10+r\n",
    "        s=s//10 \n",
    "    print(\"sum:\",d1)\n",
    "    if d1== sum:\n",
    "        print(\"palindrome\")\n",
    "    else:\n",
    "        pal(sum)\n",
    "    \n",
    "    \n",
    "n=int(input(\"enter a number\"))\n",
    "print(\"Entered Number : \",n)\n",
    "pal(n)\n",
    "\n"
   ]
  },
  {
   "cell_type": "code",
   "execution_count": 30,
   "id": "bce6b5cd",
   "metadata": {},
   "outputs": [
    {
     "name": "stdout",
     "output_type": "stream",
     "text": [
      "enter a string:apple is a fruit,apple is red\n",
      "1. Check String is Substring of Another String\n",
      "2.Count Occurrences of Character\n",
      "3.Replace a substring with another substring\n",
      "4.Convert to Capital Letters\n",
      "enter your choice:3\n",
      "enter substring:red\n",
      "enter substring to replace:round\n",
      "apple is a fruit,apple is round\n"
     ]
    }
   ],
   "source": [
    "#q7\n",
    "str=input(\"enter a string:\")\n",
    "\n",
    "print(\"1. Check String is Substring of Another String\\n2.Count Occurrences of Character\\n3.Replace a substring with another substring\\n4.Convert to Capital Letters\")\n",
    "ch=int(input(\"enter your choice:\"))\n",
    "\n",
    "if ch==1:\n",
    "    s=input(\"enter string to check whether given string is substring :\")\n",
    "    if s in str:\n",
    "        print(\"its a substring\")\n",
    "    else:\n",
    "        print(\"its not a substring\")\n",
    "    \n",
    "elif ch==2:\n",
    "    s=input(\"enter character to check its occurence in the string:\")\n",
    "    x=str.count(s)\n",
    "    print(x)\n",
    "elif ch==3:\n",
    "    s1=input(\"enter substring:\")\n",
    "    s2=input(\"enter substring to replace:\")\n",
    "    print(str.replace(s1,s2))\n",
    "else:\n",
    "    x=str.upper()\n",
    "    print(x)"
   ]
  },
  {
   "cell_type": "code",
   "execution_count": 48,
   "id": "d07e1ff1",
   "metadata": {},
   "outputs": [
    {
     "name": "stdout",
     "output_type": "stream",
     "text": [
      "Enter the limit : 2\n",
      "Enter no : 1\n",
      "{1: {1: 1}}\n",
      "Enter no : 2\n",
      "{1: {1: 1}, 2: {2: 2}}\n"
     ]
    }
   ],
   "source": [
    "#q8\n",
    "n = int(input(\"Enter the limit : \"))\n",
    "factorials = {}\n",
    "for i in range(1, n + 1):\n",
    "    number = int(input(\"Enter no : \"))\n",
    "    fact = 1\n",
    "    for j in range(1, number + 1):\n",
    "        fact = fact * j\n",
    "    factorials[i] = {number:fact}\n",
    "    print(factorials)"
   ]
  },
  {
   "cell_type": "code",
   "execution_count": 25,
   "id": "bdd4244a",
   "metadata": {},
   "outputs": [
    {
     "name": "stdout",
     "output_type": "stream",
     "text": [
      "1.union\n",
      "2.intersection\n",
      "3.difference\n",
      "enter your choice:3\n",
      "result: {1, 2, 3}\n"
     ]
    }
   ],
   "source": [
    "#q9\n",
    "set1={1,2,3,4}\n",
    "set2={4,5,7,6,'hello'}\n",
    "\n",
    "print(\"1.union\\n2.intersection\\n3.difference\")\n",
    "ch=int(input(\"enter your choice:\"))\n",
    "\n",
    "if ch==1:\n",
    "    print(\"result:\",set1|set2)\n",
    "elif ch==2:\n",
    "    print(\"result:\",set1 & set2)\n",
    "else:\n",
    "    print(\"result:\",set1-set2)"
   ]
  },
  {
   "cell_type": "code",
   "execution_count": 49,
   "id": "0d205b80",
   "metadata": {},
   "outputs": [
    {
     "name": "stdout",
     "output_type": "stream",
     "text": [
      "Enter number of students: 2\n",
      "Enter Details of student No. 1\n",
      "Roll No: 1\n",
      "Student Name: ww\n",
      "Marks: 23\n",
      "Enter Details of student No. 2\n",
      "Roll No: 2\n",
      "Student Name: aaa\n",
      "Marks: 44\n",
      "{1: ['ww', 23], 2: ['aaa', 44]}\n"
     ]
    }
   ],
   "source": [
    "#q10\n",
    "n = int(input(\"Enter number of students: \"))  \n",
    "\n",
    "result = {}  \n",
    "\n",
    "for i in range(n):\n",
    "    print(\"Enter Details of student No.\", i+1)  \n",
    "    roll_no = int(input(\"Roll No: \"))  \n",
    "    name = input(\"Student Name: \")  \n",
    "    marks = int(input(\"Marks: \"))  \n",
    "    result[roll_no] = [name, marks]    \n",
    "\n",
    "print(result)  \n",
    "\n"
   ]
  }
 ],
 "metadata": {
  "kernelspec": {
   "display_name": "Python 3 (ipykernel)",
   "language": "python",
   "name": "python3"
  },
  "language_info": {
   "codemirror_mode": {
    "name": "ipython",
    "version": 3
   },
   "file_extension": ".py",
   "mimetype": "text/x-python",
   "name": "python",
   "nbconvert_exporter": "python",
   "pygments_lexer": "ipython3",
   "version": "3.11.2"
  }
 },
 "nbformat": 4,
 "nbformat_minor": 5
}
