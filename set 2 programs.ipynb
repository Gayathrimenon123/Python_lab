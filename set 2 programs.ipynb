{
 "cells": [
  {
   "cell_type": "code",
   "execution_count": 12,
   "id": "1e2cc102",
   "metadata": {},
   "outputs": [
    {
     "name": "stdout",
     "output_type": "stream",
     "text": [
      "enter a number:3\n",
      "given no is a prime number\n"
     ]
    }
   ],
   "source": [
    "#q1\n",
    "a=int(input(\"enter a number:\"))\n",
    "t=False\n",
    "if a==1:\n",
    "     print(\"given no is not prime number\")\n",
    "elif a>1:\n",
    "    for i in range(2,n) :\n",
    "        if a%i==0:\n",
    "            t=True\n",
    "            break\n",
    "    if t:\n",
    "        print(\"given no is not prime number\")\n",
    "    else:\n",
    "        print(\"given no is a prime number\")"
   ]
  },
  {
   "cell_type": "code",
   "execution_count": 24,
   "id": "1238d850",
   "metadata": {},
   "outputs": [
    {
     "name": "stdout",
     "output_type": "stream",
     "text": [
      "enter a range:7\n",
      "The prime numbers are:\n",
      "2\n",
      "3\n",
      "5\n",
      "7\n"
     ]
    }
   ],
   "source": [
    "#q2\n",
    "n=int(input(\"enter a range:\"))\n",
    "print(\"The prime numbers are:\")\n",
    "for i in range(1,n+1):\n",
    "    if i>1: \n",
    "        for j in range(2,i):\n",
    "            if i%j==0:\n",
    "                break\n",
    "        else:\n",
    "             print(i)"
   ]
  },
  {
   "cell_type": "code",
   "execution_count": 29,
   "id": "d7e44d78",
   "metadata": {},
   "outputs": [
    {
     "name": "stdout",
     "output_type": "stream",
     "text": [
      "enter coeffiecient(degree 2):1\n",
      "enter coeffiecient(degree 1):5\n",
      "enter coeffiecient(degree 0):6\n",
      "roots are: ((-3+0j), (-2+0j))\n"
     ]
    }
   ],
   "source": [
    "#q3\n",
    "import cmath\n",
    "def root(a,b,c):\n",
    "    d=(b**2) - (4*a*c)\n",
    "    r1=(-b-cmath.sqrt(d))/(2*a)\n",
    "    r2=(-b+cmath.sqrt(d))/(2*a)\n",
    "    return r1,r2\n",
    "\n",
    "\n",
    "a=int(input(\"enter coeffiecient(degree 2):\"))\n",
    "b=int(input(\"enter coeffiecient(degree 1):\"))\n",
    "c=int(input(\"enter coeffiecient(degree 0):\"))\n",
    "rt=root(a,b,c)\n",
    "print(\"roots are:\",rt)"
   ]
  },
  {
   "cell_type": "code",
   "execution_count": 30,
   "id": "cb380fe2",
   "metadata": {},
   "outputs": [
    {
     "name": "stdout",
     "output_type": "stream",
     "text": [
      "10\n",
      "9\n",
      "8\n",
      "7\n",
      "6\n",
      "5\n",
      "4\n",
      "3\n",
      "2\n",
      "1\n",
      "0\n"
     ]
    }
   ],
   "source": [
    "#q4\n",
    "def rec(n):\n",
    "    if n == 0:\n",
    "        print(0)\n",
    "        return\n",
    "    else:\n",
    "        print(n)\n",
    "        return rec(n-1)\n",
    "    \n",
    "    \n",
    "rec(10)   "
   ]
  },
  {
   "cell_type": "code",
   "execution_count": 33,
   "id": "2dd7bc95",
   "metadata": {},
   "outputs": [
    {
     "name": "stdout",
     "output_type": "stream",
     "text": [
      "enter a range:6\n",
      "Enter the element for position 0:1\n",
      "Enter the element for position 1:2\n",
      "Enter the element for position 2:3\n",
      "Enter the element for position 3:4\n",
      "Enter the element for position 4:5\n",
      "Enter the element for position 5:6\n",
      "sum: 21\n"
     ]
    }
   ],
   "source": [
    "#q5\n",
    "n=int(input(\"enter a range:\"))\n",
    "a=[]\n",
    "for i in range(n):\n",
    "    el= int(input(\"Enter the element for position {}:\".format(i)))\n",
    "    a.append(el)\n",
    "    \n",
    "print(\"sum:\",sum(a))   "
   ]
  },
  {
   "cell_type": "code",
   "execution_count": 36,
   "id": "5deb7f5e",
   "metadata": {},
   "outputs": [
    {
     "name": "stdout",
     "output_type": "stream",
     "text": [
      "enter a range:3\n",
      "Enter the element for position 0:1\n",
      "Enter the element for position 1:2\n",
      "Enter the element for position 2:3\n",
      "enter number to be searched:2\n",
      "element found at position  1\n"
     ]
    }
   ],
   "source": [
    "#q6\n",
    "n=int(input(\"enter a range:\"))\n",
    "a=[]\n",
    "for i in range(n):\n",
    "    el= int(input(\"Enter the element for position {}:\".format(i)))\n",
    "    a.append(el)\n",
    "e=int(input(\"enter number to be searched:\"))\n",
    "for i in range(n):\n",
    "    if a[i]==e:\n",
    "        print(\"element found at position \",i)\n",
    "    "
   ]
  },
  {
   "cell_type": "code",
   "execution_count": 5,
   "id": "11147418",
   "metadata": {},
   "outputs": [
    {
     "name": "stdout",
     "output_type": "stream",
     "text": [
      "Odd Numbers in array Are: [1, 3, 5, 7, 9]\n"
     ]
    }
   ],
   "source": [
    "#q7\n",
    "import numpy as np\n",
    "ar=np.array([1,2,3,4,5,6,7,8,9,10])\n",
    "a=[]\n",
    "for i in range(ar.size):\n",
    "    if ar[i] % 2 != 0:\n",
    "        a.append(ar[i])\n",
    "\n",
    "print(\"Odd Numbers in array Are:\",a)      "
   ]
  },
  {
   "cell_type": "code",
   "execution_count": 8,
   "id": "69b1e0cf",
   "metadata": {},
   "outputs": [
    {
     "name": "stdout",
     "output_type": "stream",
     "text": [
      "enter a range:3\n",
      "Enter the element for position 0:1\n",
      "Enter the element for position 1:2\n",
      "Enter the element for position 2:3\n",
      "Largest Number in array is: 3\n"
     ]
    }
   ],
   "source": [
    "#q8\n",
    "n=int(input(\"enter a range:\"))\n",
    "a=[]\n",
    "for i in range(n):\n",
    "    el= int(input(\"Enter the element for position {}:\".format(i)))\n",
    "    a.append(el)\n",
    "    \n",
    "max=0   \n",
    "for i in range(n):\n",
    "    if max<a[i]:\n",
    "        max=a[i]\n",
    "\n",
    "print(\"Largest Number in array is:\",max)      "
   ]
  },
  {
   "cell_type": "code",
   "execution_count": 10,
   "id": "af201446",
   "metadata": {},
   "outputs": [
    {
     "name": "stdout",
     "output_type": "stream",
     "text": [
      "enter a range:3\n",
      "Enter the element for position 0:1\n",
      "Enter the element for position 1:2\n",
      "Enter the element for position 2:3\n",
      "enter index of the element to be deleted:1\n",
      "deleted element: 2\n"
     ]
    }
   ],
   "source": [
    "#q9\n",
    "n=int(input(\"enter a range:\"))\n",
    "a=[]\n",
    "for i in range(n):\n",
    "    el= int(input(\"Enter the element for position {}:\".format(i)))\n",
    "    a.append(el)\n",
    "    \n",
    "i=int(input(\"enter index of the element to be deleted:\"))\n",
    "x=a.pop(i)\n",
    "print(\"deleted element:\",x)"
   ]
  },
  {
   "cell_type": "code",
   "execution_count": 24,
   "id": "3c39a747",
   "metadata": {},
   "outputs": [
    {
     "name": "stdout",
     "output_type": "stream",
     "text": [
      "array 1: [[1 2]\n",
      " [3 4]]\n",
      "array 2: [[5 6]\n",
      " [7 8]]\n",
      "matrix addition : [[ 6  8]\n",
      " [10 12]]\n"
     ]
    }
   ],
   "source": [
    "#q10\n",
    "import numpy as np\n",
    "ar1=np.array([[1,2],[3,4]],ndmin=2)\n",
    "print(\"array 1:\",ar1)\n",
    "ar2=np.array([[5,6],[7,8]],ndmin=2)\n",
    "print(\"array 2:\",ar2)\n",
    "result=np.add(ar1,ar2)\n",
    "print(\"matrix addition :\",result)"
   ]
  },
  {
   "cell_type": "code",
   "execution_count": 23,
   "id": "4970309e",
   "metadata": {},
   "outputs": [
    {
     "name": "stdout",
     "output_type": "stream",
     "text": [
      "array 1: [[1 2]\n",
      " [3 4]]\n",
      "array 2: [[5 6]\n",
      " [7 8]]\n",
      "matrix multiplication : [[ 5 12]\n",
      " [21 32]]\n"
     ]
    }
   ],
   "source": [
    "#q11\n",
    "import numpy as np\n",
    "ar1=np.array([[1,2],[3,4]],ndmin=2)\n",
    "print(\"array 1:\",ar1)\n",
    "ar2=np.array([[5,6],[7,8]],ndmin=2)\n",
    "print(\"array 2:\",ar2)\n",
    "result=np.multiply(ar1,ar2)\n",
    "print(\"matrix multiplication :\",result)"
   ]
  },
  {
   "cell_type": "code",
   "execution_count": 12,
   "id": "7ad58e2b",
   "metadata": {},
   "outputs": [
    {
     "name": "stdout",
     "output_type": "stream",
     "text": [
      "enter year:1900\n",
      "It is not a leap year\n"
     ]
    }
   ],
   "source": [
    "#q12\n",
    "yr=int(input(\"enter year:\"))\n",
    "if yr%400==0:\n",
    "    print(\"It is a leap year\")\n",
    "elif yr%100==0:\n",
    "    print(\"It is not a leap year\")\n",
    "elif yr%4==0:\n",
    "    print(\"It is a leap year\")\n",
    "else:\n",
    "    print(\"It is not a leap year\")"
   ]
  },
  {
   "cell_type": "code",
   "execution_count": 14,
   "id": "47ce3a64",
   "metadata": {},
   "outputs": [
    {
     "name": "stdout",
     "output_type": "stream",
     "text": [
      "enter term:4\n",
      "4 term of the fibanacci series is  3\n"
     ]
    }
   ],
   "source": [
    "#q13\n",
    "def fib(n):\n",
    "    if n<=1:\n",
    "        return n\n",
    "    return fib(n-1)+fib(n-2)\n",
    "    \n",
    "n=int(input(\"enter term:\"))   \n",
    "print(n,\"term of the fibanacci series is \",fib(n))"
   ]
  },
  {
   "cell_type": "code",
   "execution_count": 18,
   "id": "fa0ae0d9",
   "metadata": {},
   "outputs": [
    {
     "name": "stdout",
     "output_type": "stream",
     "text": [
      "brand : Hyundai\n",
      "model : i20\n",
      "color : Red\n"
     ]
    }
   ],
   "source": [
    "#q14\n",
    "my_dict={\n",
    "    'brand':'Hyundai',\n",
    "    'model':'i20',\n",
    "    'color':'Red'\n",
    "}\n",
    "\n",
    "for key, value in my_dict.items():\n",
    "    print(key, \":\", value)"
   ]
  }
 ],
 "metadata": {
  "kernelspec": {
   "display_name": "Python 3 (ipykernel)",
   "language": "python",
   "name": "python3"
  },
  "language_info": {
   "codemirror_mode": {
    "name": "ipython",
    "version": 3
   },
   "file_extension": ".py",
   "mimetype": "text/x-python",
   "name": "python",
   "nbconvert_exporter": "python",
   "pygments_lexer": "ipython3",
   "version": "3.11.2"
  }
 },
 "nbformat": 4,
 "nbformat_minor": 5
}
