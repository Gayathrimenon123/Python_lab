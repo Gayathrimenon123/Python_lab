{
 "cells": [
  {
   "cell_type": "code",
   "execution_count": 3,
   "metadata": {},
   "outputs": [
    {
     "name": "stdout",
     "output_type": "stream",
     "text": [
      "Collecting numpy\n",
      "  Obtaining dependency information for numpy from https://files.pythonhosted.org/packages/93/fd/3f826c6d15d3bdcf65b8031e4835c52b7d9c45add25efa2314b53850e1a2/numpy-1.26.0-cp311-cp311-win_amd64.whl.metadata\n",
      "  Downloading numpy-1.26.0-cp311-cp311-win_amd64.whl.metadata (61 kB)\n",
      "     ---------------------------------------- 0.0/61.1 kB ? eta -:--:--\n",
      "     ------ --------------------------------- 10.2/61.1 kB ? eta -:--:--\n",
      "     ------------ ------------------------- 20.5/61.1 kB 165.2 kB/s eta 0:00:01\n",
      "     ------------------------- ------------ 41.0/61.1 kB 281.8 kB/s eta 0:00:01\n",
      "     -------------------------------------- 61.1/61.1 kB 363.1 kB/s eta 0:00:00\n",
      "Downloading numpy-1.26.0-cp311-cp311-win_amd64.whl (15.8 MB)\n",
      "   ---------------------------------------- 0.0/15.8 MB ? eta -:--:--\n",
      "   ---------------------------------------- 0.0/15.8 MB 1.9 MB/s eta 0:00:09\n",
      "   ---------------------------------------- 0.1/15.8 MB 1.6 MB/s eta 0:00:10\n",
      "   ---------------------------------------- 0.2/15.8 MB 1.4 MB/s eta 0:00:12\n",
      "    --------------------------------------- 0.2/15.8 MB 1.4 MB/s eta 0:00:12\n",
      "    --------------------------------------- 0.3/15.8 MB 1.4 MB/s eta 0:00:11\n",
      "    --------------------------------------- 0.3/15.8 MB 1.4 MB/s eta 0:00:11\n",
      "   - -------------------------------------- 0.4/15.8 MB 1.3 MB/s eta 0:00:12\n",
      "   - -------------------------------------- 0.5/15.8 MB 1.4 MB/s eta 0:00:12\n",
      "   - -------------------------------------- 0.6/15.8 MB 1.4 MB/s eta 0:00:11\n",
      "   - -------------------------------------- 0.7/15.8 MB 1.5 MB/s eta 0:00:10\n",
      "   - -------------------------------------- 0.8/15.8 MB 1.6 MB/s eta 0:00:10\n",
      "   -- ------------------------------------- 0.9/15.8 MB 1.6 MB/s eta 0:00:10\n",
      "   -- ------------------------------------- 1.0/15.8 MB 1.7 MB/s eta 0:00:09\n",
      "   -- ------------------------------------- 1.1/15.8 MB 1.8 MB/s eta 0:00:09\n",
      "   --- ------------------------------------ 1.2/15.8 MB 1.8 MB/s eta 0:00:09\n",
      "   --- ------------------------------------ 1.4/15.8 MB 1.8 MB/s eta 0:00:08\n",
      "   --- ------------------------------------ 1.5/15.8 MB 1.9 MB/s eta 0:00:08\n",
      "   --- ------------------------------------ 1.6/15.8 MB 1.9 MB/s eta 0:00:08\n",
      "   ---- ----------------------------------- 1.7/15.8 MB 1.9 MB/s eta 0:00:08\n",
      "   ---- ----------------------------------- 1.8/15.8 MB 1.9 MB/s eta 0:00:08\n",
      "   ---- ----------------------------------- 1.9/15.8 MB 2.0 MB/s eta 0:00:07\n",
      "   ----- ---------------------------------- 2.0/15.8 MB 2.0 MB/s eta 0:00:07\n",
      "   ----- ---------------------------------- 2.1/15.8 MB 2.0 MB/s eta 0:00:07\n",
      "   ----- ---------------------------------- 2.2/15.8 MB 2.0 MB/s eta 0:00:07\n",
      "   ----- ---------------------------------- 2.3/15.8 MB 2.0 MB/s eta 0:00:07\n",
      "   ------ --------------------------------- 2.4/15.8 MB 2.0 MB/s eta 0:00:07\n",
      "   ------ --------------------------------- 2.5/15.8 MB 2.0 MB/s eta 0:00:07\n",
      "   ------ --------------------------------- 2.6/15.8 MB 2.0 MB/s eta 0:00:07\n",
      "   ------ --------------------------------- 2.7/15.8 MB 2.0 MB/s eta 0:00:07\n",
      "   ------- -------------------------------- 2.8/15.8 MB 2.0 MB/s eta 0:00:07\n",
      "   ------- -------------------------------- 2.9/15.8 MB 2.0 MB/s eta 0:00:07\n",
      "   ------- -------------------------------- 3.0/15.8 MB 2.0 MB/s eta 0:00:07\n",
      "   ------- -------------------------------- 3.1/15.8 MB 2.0 MB/s eta 0:00:07\n",
      "   -------- ------------------------------- 3.2/15.8 MB 2.0 MB/s eta 0:00:07\n",
      "   -------- ------------------------------- 3.3/15.8 MB 2.0 MB/s eta 0:00:07\n",
      "   -------- ------------------------------- 3.4/15.8 MB 2.1 MB/s eta 0:00:07\n",
      "   -------- ------------------------------- 3.5/15.8 MB 2.1 MB/s eta 0:00:06\n",
      "   --------- ------------------------------ 3.6/15.8 MB 2.1 MB/s eta 0:00:06\n",
      "   --------- ------------------------------ 3.8/15.8 MB 2.1 MB/s eta 0:00:06\n",
      "   --------- ------------------------------ 3.9/15.8 MB 2.1 MB/s eta 0:00:06\n",
      "   ---------- ----------------------------- 4.0/15.8 MB 2.1 MB/s eta 0:00:06\n",
      "   ---------- ----------------------------- 4.1/15.8 MB 2.1 MB/s eta 0:00:06\n",
      "   ---------- ----------------------------- 4.3/15.8 MB 2.1 MB/s eta 0:00:06\n",
      "   ----------- ---------------------------- 4.4/15.8 MB 2.1 MB/s eta 0:00:06\n",
      "   ----------- ---------------------------- 4.5/15.8 MB 2.2 MB/s eta 0:00:06\n",
      "   ----------- ---------------------------- 4.6/15.8 MB 2.2 MB/s eta 0:00:06\n",
      "   ----------- ---------------------------- 4.7/15.8 MB 2.2 MB/s eta 0:00:06\n",
      "   ------------ --------------------------- 4.9/15.8 MB 2.2 MB/s eta 0:00:05\n",
      "   ------------ --------------------------- 5.0/15.8 MB 2.2 MB/s eta 0:00:05\n",
      "   ------------ --------------------------- 5.1/15.8 MB 2.2 MB/s eta 0:00:05\n",
      "   ------------- -------------------------- 5.2/15.8 MB 2.2 MB/s eta 0:00:05\n",
      "   ------------- -------------------------- 5.3/15.8 MB 2.2 MB/s eta 0:00:05\n",
      "   ------------- -------------------------- 5.4/15.8 MB 2.2 MB/s eta 0:00:05\n",
      "   -------------- ------------------------- 5.6/15.8 MB 2.2 MB/s eta 0:00:05\n",
      "   -------------- ------------------------- 5.7/15.8 MB 2.2 MB/s eta 0:00:05\n",
      "   -------------- ------------------------- 5.8/15.8 MB 2.2 MB/s eta 0:00:05\n",
      "   -------------- ------------------------- 5.9/15.8 MB 2.2 MB/s eta 0:00:05\n",
      "   --------------- ------------------------ 6.0/15.8 MB 2.2 MB/s eta 0:00:05\n",
      "   --------------- ------------------------ 6.1/15.8 MB 2.2 MB/s eta 0:00:05\n",
      "   --------------- ------------------------ 6.2/15.8 MB 2.2 MB/s eta 0:00:05\n",
      "   ---------------- ----------------------- 6.4/15.8 MB 2.2 MB/s eta 0:00:05\n",
      "   ---------------- ----------------------- 6.5/15.8 MB 2.2 MB/s eta 0:00:05\n",
      "   ---------------- ----------------------- 6.6/15.8 MB 2.3 MB/s eta 0:00:05\n",
      "   ---------------- ----------------------- 6.7/15.8 MB 2.3 MB/s eta 0:00:05\n",
      "   ----------------- ---------------------- 6.8/15.8 MB 2.3 MB/s eta 0:00:04\n",
      "   ----------------- ---------------------- 6.9/15.8 MB 2.2 MB/s eta 0:00:04\n",
      "   ----------------- ---------------------- 7.0/15.8 MB 2.2 MB/s eta 0:00:04\n",
      "   ------------------ --------------------- 7.1/15.8 MB 2.3 MB/s eta 0:00:04\n",
      "   ------------------ --------------------- 7.3/15.8 MB 2.3 MB/s eta 0:00:04\n",
      "   ------------------ --------------------- 7.4/15.8 MB 2.3 MB/s eta 0:00:04\n",
      "   ------------------- -------------------- 7.5/15.8 MB 2.3 MB/s eta 0:00:04\n",
      "   ------------------- -------------------- 7.6/15.8 MB 2.3 MB/s eta 0:00:04\n",
      "   ------------------- -------------------- 7.8/15.8 MB 2.3 MB/s eta 0:00:04\n",
      "   ------------------- -------------------- 7.9/15.8 MB 2.3 MB/s eta 0:00:04\n",
      "   -------------------- ------------------- 8.0/15.8 MB 2.3 MB/s eta 0:00:04\n",
      "   -------------------- ------------------- 8.1/15.8 MB 2.3 MB/s eta 0:00:04\n",
      "   -------------------- ------------------- 8.2/15.8 MB 2.3 MB/s eta 0:00:04\n",
      "   --------------------- ------------------ 8.4/15.8 MB 2.3 MB/s eta 0:00:04\n",
      "   --------------------- ------------------ 8.4/15.8 MB 2.3 MB/s eta 0:00:04\n",
      "   --------------------- ------------------ 8.5/15.8 MB 2.3 MB/s eta 0:00:04\n",
      "   --------------------- ------------------ 8.6/15.8 MB 2.3 MB/s eta 0:00:04\n",
      "   ---------------------- ----------------- 8.7/15.8 MB 2.3 MB/s eta 0:00:04\n",
      "   ---------------------- ----------------- 8.8/15.8 MB 2.3 MB/s eta 0:00:04\n",
      "   ---------------------- ----------------- 9.1/15.8 MB 2.3 MB/s eta 0:00:03\n",
      "   ----------------------- ---------------- 9.3/15.8 MB 2.3 MB/s eta 0:00:03\n",
      "   ------------------------ --------------- 9.5/15.8 MB 2.4 MB/s eta 0:00:03\n",
      "   ------------------------ --------------- 9.8/15.8 MB 2.4 MB/s eta 0:00:03\n",
      "   ------------------------ --------------- 9.9/15.8 MB 2.4 MB/s eta 0:00:03\n",
      "   ------------------------- -------------- 10.1/15.8 MB 2.4 MB/s eta 0:00:03\n",
      "   -------------------------- ------------- 10.3/15.8 MB 2.5 MB/s eta 0:00:03\n",
      "   -------------------------- ------------- 10.6/15.8 MB 2.6 MB/s eta 0:00:03\n",
      "   --------------------------- ------------ 10.8/15.8 MB 2.6 MB/s eta 0:00:02\n",
      "   --------------------------- ------------ 11.0/15.8 MB 2.7 MB/s eta 0:00:02\n",
      "   ---------------------------- ----------- 11.3/15.8 MB 2.7 MB/s eta 0:00:02\n",
      "   ----------------------------- ---------- 11.5/15.8 MB 2.8 MB/s eta 0:00:02\n",
      "   ----------------------------- ---------- 11.7/15.8 MB 2.8 MB/s eta 0:00:02\n",
      "   ------------------------------ --------- 11.9/15.8 MB 2.8 MB/s eta 0:00:02\n",
      "   ------------------------------ --------- 12.0/15.8 MB 2.8 MB/s eta 0:00:02\n",
      "   ------------------------------ --------- 12.2/15.8 MB 2.8 MB/s eta 0:00:02\n",
      "   ------------------------------- -------- 12.4/15.8 MB 2.9 MB/s eta 0:00:02\n",
      "   ------------------------------- -------- 12.6/15.8 MB 2.9 MB/s eta 0:00:02\n",
      "   -------------------------------- ------- 12.7/15.8 MB 2.9 MB/s eta 0:00:02\n",
      "   -------------------------------- ------- 12.9/15.8 MB 2.9 MB/s eta 0:00:01\n",
      "   --------------------------------- ------ 13.1/15.8 MB 3.0 MB/s eta 0:00:01\n",
      "   --------------------------------- ------ 13.3/15.8 MB 3.0 MB/s eta 0:00:01\n",
      "   ---------------------------------- ----- 13.5/15.8 MB 3.1 MB/s eta 0:00:01\n",
      "   ---------------------------------- ----- 13.6/15.8 MB 3.1 MB/s eta 0:00:01\n",
      "   ---------------------------------- ----- 13.8/15.8 MB 3.1 MB/s eta 0:00:01\n",
      "   ----------------------------------- ---- 14.0/15.8 MB 3.1 MB/s eta 0:00:01\n",
      "   ----------------------------------- ---- 14.2/15.8 MB 3.2 MB/s eta 0:00:01\n",
      "   ------------------------------------ --- 14.4/15.8 MB 3.2 MB/s eta 0:00:01\n",
      "   ------------------------------------ --- 14.6/15.8 MB 3.2 MB/s eta 0:00:01\n",
      "   ------------------------------------- -- 14.7/15.8 MB 3.2 MB/s eta 0:00:01\n",
      "   ------------------------------------- -- 14.9/15.8 MB 3.3 MB/s eta 0:00:01\n",
      "   -------------------------------------- - 15.1/15.8 MB 3.3 MB/s eta 0:00:01\n",
      "   -------------------------------------- - 15.3/15.8 MB 3.3 MB/s eta 0:00:01\n",
      "   ---------------------------------------  15.5/15.8 MB 3.4 MB/s eta 0:00:01\n",
      "   ---------------------------------------  15.6/15.8 MB 3.4 MB/s eta 0:00:01\n",
      "   ---------------------------------------  15.8/15.8 MB 3.4 MB/s eta 0:00:01\n",
      "   ---------------------------------------  15.8/15.8 MB 3.4 MB/s eta 0:00:01\n",
      "   ---------------------------------------- 15.8/15.8 MB 3.3 MB/s eta 0:00:00\n",
      "Installing collected packages: numpy\n",
      "Successfully installed numpy-1.26.0\n",
      "Note: you may need to restart the kernel to use updated packages.\n"
     ]
    }
   ],
   "source": [
    "pip install numpy"
   ]
  },
  {
   "cell_type": "code",
   "execution_count": 34,
   "metadata": {},
   "outputs": [
    {
     "name": "stdout",
     "output_type": "stream",
     "text": [
      "Collecting matplotlib\n",
      "  Obtaining dependency information for matplotlib from https://files.pythonhosted.org/packages/40/d9/c1784db9db0d484c8e5deeafbaac0d6ed66e165c6eb4a74fb43a5fa947d9/matplotlib-3.8.0-cp311-cp311-win_amd64.whl.metadata\n",
      "  Downloading matplotlib-3.8.0-cp311-cp311-win_amd64.whl.metadata (5.9 kB)\n",
      "Collecting contourpy>=1.0.1 (from matplotlib)\n",
      "  Obtaining dependency information for contourpy>=1.0.1 from https://files.pythonhosted.org/packages/e5/76/94bc17eb868f8c7397f8fdfdeae7661c1b9a35f3a7219da308596e8c252a/contourpy-1.1.1-cp311-cp311-win_amd64.whl.metadata\n",
      "  Downloading contourpy-1.1.1-cp311-cp311-win_amd64.whl.metadata (5.9 kB)\n",
      "Collecting cycler>=0.10 (from matplotlib)\n",
      "  Downloading cycler-0.11.0-py3-none-any.whl (6.4 kB)\n",
      "Collecting fonttools>=4.22.0 (from matplotlib)\n",
      "  Obtaining dependency information for fonttools>=4.22.0 from https://files.pythonhosted.org/packages/95/b6/9a5133deb5838c4dbe3ea27e8dba123622aa5112d43a079e9587636b4faf/fonttools-4.42.1-cp311-cp311-win_amd64.whl.metadata\n",
      "  Downloading fonttools-4.42.1-cp311-cp311-win_amd64.whl.metadata (154 kB)\n",
      "     ---------------------------------------- 0.0/154.1 kB ? eta -:--:--\n",
      "     -- ------------------------------------- 10.2/154.1 kB ? eta -:--:--\n",
      "     -------------- ---------------------- 61.4/154.1 kB 812.7 kB/s eta 0:00:01\n",
      "     -------------------------------------- 154.1/154.1 kB 1.3 MB/s eta 0:00:00\n",
      "Collecting kiwisolver>=1.0.1 (from matplotlib)\n",
      "  Obtaining dependency information for kiwisolver>=1.0.1 from https://files.pythonhosted.org/packages/1e/37/d3c2d4ba2719059a0f12730947bbe1ad5ee8bff89e8c35319dcb2c9ddb4c/kiwisolver-1.4.5-cp311-cp311-win_amd64.whl.metadata\n",
      "  Downloading kiwisolver-1.4.5-cp311-cp311-win_amd64.whl.metadata (6.5 kB)\n",
      "Requirement already satisfied: numpy<2,>=1.21 in c:\\users\\sgaya\\appdata\\local\\packages\\pythonsoftwarefoundation.python.3.11_qbz5n2kfra8p0\\localcache\\local-packages\\python311\\site-packages (from matplotlib) (1.26.0)\n",
      "Requirement already satisfied: packaging>=20.0 in c:\\users\\sgaya\\appdata\\local\\packages\\pythonsoftwarefoundation.python.3.11_qbz5n2kfra8p0\\localcache\\local-packages\\python311\\site-packages (from matplotlib) (23.1)\n",
      "Collecting pillow>=6.2.0 (from matplotlib)\n",
      "  Obtaining dependency information for pillow>=6.2.0 from https://files.pythonhosted.org/packages/54/9b/debe992677af84859ec1e38777b1d5c0671918188324153ecbc1f16f6cb6/Pillow-10.0.1-cp311-cp311-win_amd64.whl.metadata\n",
      "  Downloading Pillow-10.0.1-cp311-cp311-win_amd64.whl.metadata (9.6 kB)\n",
      "Collecting pyparsing>=2.3.1 (from matplotlib)\n",
      "  Obtaining dependency information for pyparsing>=2.3.1 from https://files.pythonhosted.org/packages/39/92/8486ede85fcc088f1b3dba4ce92dd29d126fd96b0008ea213167940a2475/pyparsing-3.1.1-py3-none-any.whl.metadata\n",
      "  Downloading pyparsing-3.1.1-py3-none-any.whl.metadata (5.1 kB)\n",
      "Requirement already satisfied: python-dateutil>=2.7 in c:\\users\\sgaya\\appdata\\local\\packages\\pythonsoftwarefoundation.python.3.11_qbz5n2kfra8p0\\localcache\\local-packages\\python311\\site-packages (from matplotlib) (2.8.2)\n",
      "Requirement already satisfied: six>=1.5 in c:\\users\\sgaya\\appdata\\local\\packages\\pythonsoftwarefoundation.python.3.11_qbz5n2kfra8p0\\localcache\\local-packages\\python311\\site-packages (from python-dateutil>=2.7->matplotlib) (1.16.0)\n",
      "Downloading matplotlib-3.8.0-cp311-cp311-win_amd64.whl (7.6 MB)\n",
      "   ---------------------------------------- 0.0/7.6 MB ? eta -:--:--\n",
      "    --------------------------------------- 0.1/7.6 MB 2.8 MB/s eta 0:00:03\n",
      "   - -------------------------------------- 0.2/7.6 MB 2.3 MB/s eta 0:00:04\n",
      "   - -------------------------------------- 0.4/7.6 MB 2.9 MB/s eta 0:00:03\n",
      "   -- ------------------------------------- 0.5/7.6 MB 3.0 MB/s eta 0:00:03\n",
      "   --- ------------------------------------ 0.6/7.6 MB 2.8 MB/s eta 0:00:03\n",
      "   ---- ----------------------------------- 0.9/7.6 MB 3.1 MB/s eta 0:00:03\n",
      "   ------ --------------------------------- 1.2/7.6 MB 3.3 MB/s eta 0:00:02\n",
      "   ------ --------------------------------- 1.3/7.6 MB 3.6 MB/s eta 0:00:02\n",
      "   -------- ------------------------------- 1.7/7.6 MB 3.8 MB/s eta 0:00:02\n",
      "   --------- ------------------------------ 1.8/7.6 MB 3.9 MB/s eta 0:00:02\n",
      "   ----------- ---------------------------- 2.2/7.6 MB 4.0 MB/s eta 0:00:02\n",
      "   ------------ --------------------------- 2.4/7.6 MB 4.1 MB/s eta 0:00:02\n",
      "   ------------- -------------------------- 2.5/7.6 MB 4.1 MB/s eta 0:00:02\n",
      "   ------------- -------------------------- 2.6/7.6 MB 4.0 MB/s eta 0:00:02\n",
      "   ------------- -------------------------- 2.6/7.6 MB 4.0 MB/s eta 0:00:02\n",
      "   -------------- ------------------------- 2.7/7.6 MB 3.6 MB/s eta 0:00:02\n",
      "   ---------------- ----------------------- 3.1/7.6 MB 4.0 MB/s eta 0:00:02\n",
      "   ----------------- ---------------------- 3.4/7.6 MB 3.9 MB/s eta 0:00:02\n",
      "   ------------------- -------------------- 3.7/7.6 MB 4.0 MB/s eta 0:00:02\n",
      "   ------------------- -------------------- 3.7/7.6 MB 3.9 MB/s eta 0:00:02\n",
      "   ------------------- -------------------- 3.7/7.6 MB 3.9 MB/s eta 0:00:02\n",
      "   ---------------------- ----------------- 4.2/7.6 MB 4.0 MB/s eta 0:00:01\n",
      "   ---------------------- ----------------- 4.4/7.6 MB 3.9 MB/s eta 0:00:01\n",
      "   ----------------------- ---------------- 4.6/7.6 MB 3.9 MB/s eta 0:00:01\n",
      "   ------------------------- -------------- 4.8/7.6 MB 4.0 MB/s eta 0:00:01\n",
      "   -------------------------- ------------- 5.0/7.6 MB 4.0 MB/s eta 0:00:01\n",
      "   --------------------------- ------------ 5.2/7.6 MB 3.9 MB/s eta 0:00:01\n",
      "   --------------------------- ------------ 5.3/7.6 MB 4.0 MB/s eta 0:00:01\n",
      "   --------------------------- ------------ 5.3/7.6 MB 4.0 MB/s eta 0:00:01\n",
      "   --------------------------- ------------ 5.3/7.6 MB 4.0 MB/s eta 0:00:01\n",
      "   ---------------------------- ----------- 5.5/7.6 MB 3.7 MB/s eta 0:00:01\n",
      "   ----------------------------- ---------- 5.6/7.6 MB 3.7 MB/s eta 0:00:01\n",
      "   ------------------------------ --------- 5.7/7.6 MB 3.7 MB/s eta 0:00:01\n",
      "   ------------------------------ --------- 5.9/7.6 MB 3.7 MB/s eta 0:00:01\n",
      "   -------------------------------- ------- 6.2/7.6 MB 3.8 MB/s eta 0:00:01\n",
      "   --------------------------------- ------ 6.5/7.6 MB 3.8 MB/s eta 0:00:01\n",
      "   ---------------------------------- ----- 6.7/7.6 MB 3.8 MB/s eta 0:00:01\n",
      "   ----------------------------------- ---- 6.8/7.6 MB 3.8 MB/s eta 0:00:01\n",
      "   ----------------------------------- ---- 6.8/7.6 MB 3.8 MB/s eta 0:00:01\n",
      "   ----------------------------------- ---- 6.8/7.6 MB 3.8 MB/s eta 0:00:01\n",
      "   ----------------------------------- ---- 6.8/7.6 MB 3.8 MB/s eta 0:00:01\n",
      "   ------------------------------------- -- 7.3/7.6 MB 3.6 MB/s eta 0:00:01\n",
      "   ---------------------------------------  7.5/7.6 MB 3.6 MB/s eta 0:00:01\n",
      "   ---------------------------------------  7.6/7.6 MB 3.6 MB/s eta 0:00:01\n",
      "   ---------------------------------------- 7.6/7.6 MB 3.6 MB/s eta 0:00:00\n",
      "Downloading contourpy-1.1.1-cp311-cp311-win_amd64.whl (480 kB)\n",
      "   ---------------------------------------- 0.0/480.5 kB ? eta -:--:--\n",
      "   ----- ---------------------------------- 71.7/480.5 kB 1.9 MB/s eta 0:00:01\n",
      "   -------------------------- ------------- 317.4/480.5 kB 3.3 MB/s eta 0:00:01\n",
      "   ---------------------------------------- 480.5/480.5 kB 3.3 MB/s eta 0:00:00\n",
      "Downloading fonttools-4.42.1-cp311-cp311-win_amd64.whl (2.1 MB)\n",
      "   ---------------------------------------- 0.0/2.1 MB ? eta -:--:--\n",
      "   -- ------------------------------------- 0.1/2.1 MB 3.6 MB/s eta 0:00:01\n",
      "   ----- ---------------------------------- 0.3/2.1 MB 3.2 MB/s eta 0:00:01\n",
      "   --------- ------------------------------ 0.5/2.1 MB 3.3 MB/s eta 0:00:01\n",
      "   ------------ --------------------------- 0.7/2.1 MB 3.4 MB/s eta 0:00:01\n",
      "   --------------- ------------------------ 0.8/2.1 MB 3.5 MB/s eta 0:00:01\n",
      "   ------------------ --------------------- 1.0/2.1 MB 3.4 MB/s eta 0:00:01\n",
      "   --------------------- ------------------ 1.1/2.1 MB 3.6 MB/s eta 0:00:01\n",
      "   ----------------------- ---------------- 1.3/2.1 MB 3.5 MB/s eta 0:00:01\n",
      "   -------------------------- ------------- 1.4/2.1 MB 3.5 MB/s eta 0:00:01\n",
      "   ----------------------------- ---------- 1.6/2.1 MB 3.4 MB/s eta 0:00:01\n",
      "   --------------------------------- ------ 1.8/2.1 MB 3.5 MB/s eta 0:00:01\n",
      "   ------------------------------------ --- 1.9/2.1 MB 3.4 MB/s eta 0:00:01\n",
      "   ---------------------------------------  2.1/2.1 MB 3.4 MB/s eta 0:00:01\n",
      "   ---------------------------------------- 2.1/2.1 MB 3.3 MB/s eta 0:00:00\n",
      "Downloading kiwisolver-1.4.5-cp311-cp311-win_amd64.whl (56 kB)\n",
      "   ---------------------------------------- 0.0/56.1 kB ? eta -:--:--\n",
      "   ---------------------------------------- 56.1/56.1 kB ? eta 0:00:00\n",
      "Downloading Pillow-10.0.1-cp311-cp311-win_amd64.whl (2.5 MB)\n",
      "   ---------------------------------------- 0.0/2.5 MB ? eta -:--:--\n",
      "   -- ------------------------------------- 0.1/2.5 MB 4.3 MB/s eta 0:00:01\n",
      "   ---- ----------------------------------- 0.3/2.5 MB 3.8 MB/s eta 0:00:01\n",
      "   ------- -------------------------------- 0.5/2.5 MB 3.6 MB/s eta 0:00:01\n",
      "   --------- ------------------------------ 0.6/2.5 MB 3.9 MB/s eta 0:00:01\n",
      "   ------------ --------------------------- 0.8/2.5 MB 3.6 MB/s eta 0:00:01\n",
      "   --------------- ------------------------ 1.0/2.5 MB 3.6 MB/s eta 0:00:01\n",
      "   ----------------- ---------------------- 1.1/2.5 MB 3.5 MB/s eta 0:00:01\n",
      "   -------------------- ------------------- 1.3/2.5 MB 3.6 MB/s eta 0:00:01\n",
      "   --------------------- ------------------ 1.4/2.5 MB 3.5 MB/s eta 0:00:01\n",
      "   ------------------------ --------------- 1.5/2.5 MB 3.4 MB/s eta 0:00:01\n",
      "   --------------------------- ------------ 1.7/2.5 MB 3.4 MB/s eta 0:00:01\n",
      "   ----------------------------- ---------- 1.9/2.5 MB 3.4 MB/s eta 0:00:01\n",
      "   ------------------------------- -------- 2.0/2.5 MB 3.4 MB/s eta 0:00:01\n",
      "   ---------------------------------- ----- 2.1/2.5 MB 3.4 MB/s eta 0:00:01\n",
      "   ------------------------------------ --- 2.3/2.5 MB 3.5 MB/s eta 0:00:01\n",
      "   ---------------------------------------  2.5/2.5 MB 3.4 MB/s eta 0:00:01\n",
      "   ---------------------------------------- 2.5/2.5 MB 3.3 MB/s eta 0:00:00\n",
      "Downloading pyparsing-3.1.1-py3-none-any.whl (103 kB)\n",
      "   ---------------------------------------- 0.0/103.1 kB ? eta -:--:--\n",
      "   ---------------------------------------- 103.1/103.1 kB 3.0 MB/s eta 0:00:00\n",
      "Installing collected packages: pyparsing, pillow, kiwisolver, fonttools, cycler, contourpy, matplotlib\n",
      "Successfully installed contourpy-1.1.1 cycler-0.11.0 fonttools-4.42.1 kiwisolver-1.4.5 matplotlib-3.8.0 pillow-10.0.1 pyparsing-3.1.1\n",
      "Note: you may need to restart the kernel to use updated packages.\n"
     ]
    }
   ],
   "source": [
    "pip install matplotlib"
   ]
  },
  {
   "cell_type": "code",
   "execution_count": 1,
   "metadata": {},
   "outputs": [],
   "source": [
    "import numpy as np"
   ]
  },
  {
   "cell_type": "code",
   "execution_count": 7,
   "metadata": {},
   "outputs": [
    {
     "name": "stdout",
     "output_type": "stream",
     "text": [
      "[[1. 1. 1.]\n",
      " [1. 1. 1.]\n",
      " [1. 1. 1.]]\n"
     ]
    }
   ],
   "source": [
    "#q1\n",
    "ar=np.ones([3,3])\n",
    "print(ar)"
   ]
  },
  {
   "cell_type": "code",
   "execution_count": 10,
   "metadata": {},
   "outputs": [
    {
     "name": "stdout",
     "output_type": "stream",
     "text": [
      "['41' '42' '43' '44']\n"
     ]
    }
   ],
   "source": [
    "#q2\n",
    "arr = np.array([41, 42,'one', 43, 44,'seven'])\n",
    "\n",
    "# Create an empty list\n",
    "filter = []\n",
    "\n",
    "# go through each element in arr\n",
    "for element in arr:\n",
    "  # if the element is higher than 42, set the value to True, otherwise False:\n",
    "  if element.isnumeric():\n",
    "    filter.append(True)\n",
    "  else:\n",
    "    filter.append(False)\n",
    "\n",
    "newarr = arr[filter]\n",
    "\n",
    "print(newarr)\n"
   ]
  },
  {
   "cell_type": "code",
   "execution_count": 3,
   "metadata": {},
   "outputs": [
    {
     "name": "stdout",
     "output_type": "stream",
     "text": [
      "coveriance matrix: [[1.66666667 1.66666667]\n",
      " [1.66666667 1.66666667]]\n"
     ]
    }
   ],
   "source": [
    "#q14\n",
    "a1=np.array([1,2,3,4])\n",
    "a2=np.array([5,6,7,8])\n",
    "\n",
    "print(\"coveriance matrix:\",np.cov(a1,a2))"
   ]
  },
  {
   "cell_type": "code",
   "execution_count": 4,
   "metadata": {},
   "outputs": [
    {
     "name": "stdout",
     "output_type": "stream",
     "text": [
      "multiplication: [[19 22]\n",
      " [43 50]]\n"
     ]
    }
   ],
   "source": [
    "#q11\n",
    "p=np.array(([1,2],[3,4]))\n",
    "q=np.array(([5,6],[7,8]))\n",
    "\n",
    "print(\"multiplication:\",np.dot(p,q))"
   ]
  },
  {
   "cell_type": "code",
   "execution_count": 5,
   "metadata": {},
   "outputs": [
    {
     "name": "stdout",
     "output_type": "stream",
     "text": [
      "Vectors :\n",
      "a =  [2 6]\n",
      "\n",
      "b =  [ 3 10]\n",
      "\n",
      "Inner product of vectors a and b =\n",
      "66\n",
      "\n",
      "Outer product of vectors a and b =\n",
      "[[ 6 20]\n",
      " [18 60]]\n",
      "\n",
      "Cross product of vectors a and b =\n",
      "2\n",
      "---------------------------------------\n",
      "\n",
      "Matrices :\n",
      "x = [[2 3 4]\n",
      " [3 2 9]]\n",
      "\n",
      "y = [[ 1  5  0]\n",
      " [ 5 10  3]]\n",
      "\n",
      "Inner product of matrices x and y =\n",
      "[[17 52]\n",
      " [13 62]]\n",
      "\n",
      "Outer product of matrices x and y =\n",
      "[[ 2 10  0 10 20  6]\n",
      " [ 3 15  0 15 30  9]\n",
      " [ 4 20  0 20 40 12]\n",
      " [ 3 15  0 15 30  9]\n",
      " [ 2 10  0 10 20  6]\n",
      " [ 9 45  0 45 90 27]]\n",
      "\n",
      "Cross product of matrices x and y =\n",
      "[[-20   4   7]\n",
      " [-84  36  20]]\n"
     ]
    }
   ],
   "source": [
    "#q13\n",
    "a = np.array([2, 6])\n",
    "b = np.array([3, 10])\n",
    "print(\"Vectors :\")\n",
    "print(\"a = \", a)\n",
    "print(\"\\nb = \", b)\n",
    "\n",
    "print(\"\\nInner product of vectors a and b =\")\n",
    "print(np.inner(a, b))\n",
    "\n",
    "print(\"\\nOuter product of vectors a and b =\")\n",
    "print(np.outer(a, b))\n",
    "\n",
    "print(\"\\nCross product of vectors a and b =\")\n",
    "print(np.cross(a, b))\n",
    "  \n",
    "print(\"---------------------------------------\")\n",
    "  \n",
    "# Matrices\n",
    "x = np.array([[2, 3, 4], [3, 2, 9]])\n",
    "y = np.array([[1, 5, 0], [5, 10, 3]])\n",
    "print(\"\\nMatrices :\")\n",
    "print(\"x =\", x)\n",
    "print(\"\\ny =\", y)\n",
    "  \n",
    "# Inner product of matrices\n",
    "print(\"\\nInner product of matrices x and y =\")\n",
    "print(np.inner(x, y))\n",
    "\n",
    "print(\"\\nOuter product of matrices x and y =\")\n",
    "print(np.outer(x, y))\n",
    "\n",
    "print(\"\\nCross product of matrices x and y =\")\n",
    "print(np.cross(x, y))"
   ]
  },
  {
   "cell_type": "code",
   "execution_count": 16,
   "metadata": {},
   "outputs": [
    {
     "name": "stdout",
     "output_type": "stream",
     "text": [
      "[('Ines', 40.  , 7) ('Carcel', 40.4 , 7) ('Jerry', 42.11, 8)]\n"
     ]
    }
   ],
   "source": [
    "#q7\n",
    "a=[('Ines',40,7),('Carcel',40.4,7),('Jerry',42.11,8)]\n",
    "dtype=[('name',(str,15)),('height',float),('class',int)]\n",
    "\n",
    "students=np.array(a,dtype)\n",
    "print(np.sort(students,order=['class','height']))"
   ]
  },
  {
   "cell_type": "code",
   "execution_count": 17,
   "metadata": {},
   "outputs": [
    {
     "name": "stdout",
     "output_type": "stream",
     "text": [
      "Original array:\n",
      "[(1+2j), (3-1j), (3-2j), (4-3j), (3+5j)]\n",
      "\n",
      "Sorted a given complex array using the real part first, then the imaginary part.\n",
      "[1.+2.j 3.-2.j 3.-1.j 3.+5.j 4.-3.j]\n"
     ]
    }
   ],
   "source": [
    "#q8\n",
    "complex_num = [1 + 2j, 3 - 1j, 3 - 2j, 4 - 3j, 3 + 5j]\n",
    "print(\"Original array:\")\n",
    "print(complex_num)\n",
    "print(\"\\nSorted a given complex array using the real part first, then the imaginary part.\")\n",
    "print(np.sort_complex(complex_num))"
   ]
  },
  {
   "cell_type": "code",
   "execution_count": 18,
   "metadata": {},
   "outputs": [
    {
     "name": "stdout",
     "output_type": "stream",
     "text": [
      "Original matrix:\n",
      "[[0 1 2]\n",
      " [3 4 5]\n",
      " [6 7 8]]\n",
      "Condition number of the said matrix:\n",
      "12\n"
     ]
    }
   ],
   "source": [
    "#q10\n",
    "m = np.arange(9).reshape(3,3)\n",
    "print(\"Original matrix:\")\n",
    "print(m)\n",
    "result =  np.trace(m)\n",
    "print(\"Condition number of the said matrix:\")\n",
    "print(result)"
   ]
  },
  {
   "cell_type": "code",
   "execution_count": 22,
   "metadata": {},
   "outputs": [
    {
     "name": "stdout",
     "output_type": "stream",
     "text": [
      "Original Numpy array:\n",
      "[[[ 0  1  2  3  4]\n",
      "  [ 5  6  7  8  9]\n",
      "  [10 11 12 13 14]\n",
      "  [15 16 17 18 19]]\n",
      "\n",
      " [[20 21 22 23 24]\n",
      "  [25 26 27 28 29]\n",
      "  [30 31 32 33 34]\n",
      "  [35 36 37 38 39]]\n",
      "\n",
      " [[40 41 42 43 44]\n",
      "  [45 46 47 48 49]\n",
      "  [50 51 52 53 54]\n",
      "  [55 56 57 58 59]]]\n",
      "Type:  <class 'numpy.ndarray'>\n",
      "\n",
      "2D diagonals: \n",
      "[[ 0  6 12 18]\n",
      " [20 26 32 38]\n",
      " [40 46 52 58]]\n",
      "Type:  <class 'numpy.ndarray'>\n"
     ]
    }
   ],
   "source": [
    "#q5\n",
    "np_array = np.arange(3*4*5).reshape(3,4,5)\n",
    "print(\"Original Numpy array:\")\n",
    "print(np_array)\n",
    "print(\"Type: \",type(np_array))\n",
    "result = np.diagonal(np_array, axis1=1, axis2=2)\n",
    "print(\"\\n2D diagonals: \")\n",
    "print(result)\n",
    "print(\"Type: \",type(result))"
   ]
  },
  {
   "cell_type": "code",
   "execution_count": 25,
   "metadata": {},
   "outputs": [
    {
     "name": "stdout",
     "output_type": "stream",
     "text": [
      "[1.+2.j 3.-2.j]\n",
      "[4.-3.j 3.+5.j]\n",
      "(-3+10j)\n"
     ]
    }
   ],
   "source": [
    "#q12\n",
    "a= np.array([1 + 2j, 3 - 2j])\n",
    "print(a)\n",
    "b=np.array([ 4 - 3j, 3 + 5j])\n",
    "print(b)\n",
    "print(np.vdot(a,b))\n",
    "\n"
   ]
  },
  {
   "cell_type": "code",
   "execution_count": 26,
   "metadata": {},
   "outputs": [
    {
     "name": "stdout",
     "output_type": "stream",
     "text": [
      "Original array:\n",
      "[[10 40]\n",
      " [30 20]]\n",
      "Sort the array along the first axis:\n",
      "[[10 20]\n",
      " [30 40]]\n",
      "Sort the array along the last axis:\n",
      "[[10 40]\n",
      " [20 30]]\n",
      "Sort the flattened array:\n",
      "[10 20 30 40]\n"
     ]
    }
   ],
   "source": [
    "#q6\n",
    "a = np.array([[10,40],[30,20]])\n",
    "print(\"Original array:\")\n",
    "print(a)\n",
    "print(\"Sort the array along the first axis:\")\n",
    "print(np.sort(a, axis=0))\n",
    "print(\"Sort the array along the last axis:\")\n",
    "print(np.sort(a))\n",
    "print(\"Sort the flattened array:\")\n",
    "print(np.sort(a, axis=None))"
   ]
  },
  {
   "cell_type": "code",
   "execution_count": 27,
   "metadata": {},
   "outputs": [
    {
     "name": "stdout",
     "output_type": "stream",
     "text": [
      "\n",
      "Original array:\n",
      "[[ 0  1  2  3  4  5]\n",
      " [ 6  7  8  9 10 11]]\n",
      "\n",
      "80th percentile for all elements of the said array along the second axis:\n",
      "[ 4. 10.]\n"
     ]
    }
   ],
   "source": [
    "#q19\n",
    "x = np.arange(12).reshape((2, 6))\n",
    "print(\"\\nOriginal array:\")\n",
    "print(x)\n",
    "r1 = np.percentile(x, 80, 1)\n",
    "print(\"\\n80th percentile for all elements of the said array along the second axis:\")\n",
    "print(r1)"
   ]
  },
  {
   "cell_type": "code",
   "execution_count": 28,
   "metadata": {},
   "outputs": [
    {
     "name": "stdout",
     "output_type": "stream",
     "text": [
      "[0 1 2]\n",
      "[3 4 5]\n",
      "\n",
      "Cross-correlation:\n",
      " [14]\n"
     ]
    }
   ],
   "source": [
    "#q17\n",
    "import numpy as np\n",
    "array1 = np.array([0, 1, 2])\n",
    "array2 = np.array([3, 4, 5])\n",
    "\n",
    "# Original array1\n",
    "print(array1)\n",
    "\n",
    "# Original array2\n",
    "print(array2)\n",
    "\n",
    "# ross-correlation of the arrays\n",
    "print(\"\\nCross-correlation:\\n\",\n",
    "\tnp.correlate(array1, array2))"
   ]
  },
  {
   "cell_type": "code",
   "execution_count": 32,
   "metadata": {},
   "outputs": [
    {
     "name": "stdout",
     "output_type": "stream",
     "text": [
      "Input array :  [[[2 2 2]\n",
      "  [2 2 2]]]\n",
      "Shape of input array :  (1, 2, 3)\n",
      "output squeezed array :  [[2 2 2]\n",
      " [2 2 2]]\n",
      "Shape of output array :  (2, 3)\n"
     ]
    }
   ],
   "source": [
    "#q3\n",
    "\n",
    "\n",
    "in_arr = np.array([[[2, 2, 2], [2, 2, 2]]])\n",
    "\n",
    "print (\"Input array : \", in_arr)\n",
    "print(\"Shape of input array : \", in_arr.shape)\n",
    "\n",
    "out_arr = np.squeeze(in_arr)\n",
    "\n",
    "print (\"output squeezed array : \", out_arr)\n",
    "print(\"Shape of output array : \", out_arr.shape)\n",
    "\n"
   ]
  },
  {
   "cell_type": "code",
   "execution_count": 35,
   "metadata": {},
   "outputs": [
    {
     "name": "stdout",
     "output_type": "stream",
     "text": [
      "nums:  [0.5 0.7 1.  1.2 1.3 2.1]\n",
      "bins:  [0 1 2 3]\n",
      "Result: (array([2, 3, 1], dtype=int64), array([0, 1, 2, 3]))\n"
     ]
    },
    {
     "data": {
      "image/png": "[encoded data removed]",
      "text/plain": [
       "<Figure size 640x480 with 1 Axes>"
      ]
     },
     "metadata": {},
     "output_type": "display_data"
    }
   ],
   "source": [
    "#q16\n",
    "import matplotlib.pyplot as plt\n",
    "nums = np.array([0.5, 0.7, 1.0, 1.2, 1.3, 2.1])\n",
    "bins = np.array([0, 1, 2, 3])\n",
    "print(\"nums: \",nums)\n",
    "print(\"bins: \",bins)\n",
    "print(\"Result:\", np.histogram(nums, bins))\n",
    "plt.hist(nums, bins=bins)\n",
    "plt.show()\n"
   ]
  }
 ],
 "metadata": {
  "kernelspec": {
   "display_name": "Python 3",
   "language": "python",
   "name": "python3"
  },
  "language_info": {
   "codemirror_mode": {
    "name": "ipython",
    "version": 3
   },
   "file_extension": ".py",
   "mimetype": "text/x-python",
   "name": "python",
   "nbconvert_exporter": "python",
   "pygments_lexer": "ipython3",
   "version": "3.11.5"
  },
  "orig_nbformat": 4
 },
 "nbformat": 4,
 "nbformat_minor": 2
}
